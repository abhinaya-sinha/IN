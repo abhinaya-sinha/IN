{
 "cells": [
  {
   "cell_type": "code",
   "execution_count": null,
   "metadata": {},
   "outputs": [],
   "source": [
    "batch_size = 100000\n",
    "counter = 0 \n",
    "train_0 = np.swapaxes(train_0, 1, 2) \n",
    "train_1 = np.swapaxes(train_1, 1, 2) \n",
    "train_2 = np.swapaxes(train_2, 1, 2) \n",
    "train_3 = np.swapaxes(train_3, 1, 2) \n",
    "\n",
    "for j in range(0, train_0.shape[0], batch_size):\n",
    "    h5 = h5py.File(\"data/opendata/train/data_\" + str(counter), \"w\")\n",
    "    training_data = h5.create_group(\"training_subgroup\")\n",
    "    target_data = h5.create_group(\"target_subgroup\")\n",
    "    weight_data = h5.create_group(\"weight_subgroup\")\n",
    "    training_data.create_dataset(\"training_0\", data = train_0[j : j + batch_size])\n",
    "    training_data.create_dataset(\"training_1\", data = train_1[j : j + batch_size])\n",
    "    training_data.create_dataset(\"training_2\", data = train_2[j : j + batch_size])\n",
    "    training_data.create_dataset(\"training_3\", data = train_3[j : j + batch_size])\n",
    "    target_data.create_dataset(\"target\", data = truth_0[j : j + batch_size])\n",
    "    weight_data.create_dataset(\"weights\", data = weights_0[j : j + batch_size])\n",
    "    h5.close()\n",
    "    counter += 1"
   ]
  }
 ],
 "metadata": {
  "kernelspec": {
   "display_name": "Python 2",
   "language": "python",
   "name": "python2"
  },
  "language_info": {
   "codemirror_mode": {
    "name": "ipython",
    "version": 2
   },
   "file_extension": ".py",
   "mimetype": "text/x-python",
   "name": "python",
   "nbconvert_exporter": "python",
   "pygments_lexer": "ipython2",
   "version": "2.7.12"
  }
 },
 "nbformat": 4,
 "nbformat_minor": 2
}
