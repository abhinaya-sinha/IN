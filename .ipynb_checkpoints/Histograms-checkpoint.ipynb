{
 "cells": [
  {
   "cell_type": "code",
   "execution_count": 1,
   "metadata": {},
   "outputs": [
    {
     "data": {
      "application/javascript": [
       "require(['codemirror/mode/clike/clike'], function(Clike) { console.log('ROOTaaS - C++ CodeMirror module loaded'); });"
      ]
     },
     "metadata": {},
     "output_type": "display_data"
    },
    {
     "data": {
      "application/javascript": [
       "IPython.CodeCell.config_defaults.highlight_modes['magic_text/x-c++src'] = {'reg':[/^%%cpp/]};"
      ]
     },
     "metadata": {},
     "output_type": "display_data"
    },
    {
     "name": "stdout",
     "output_type": "stream",
     "text": [
      "Welcome to ROOTaaS 6.06/04\n",
      "reading file\n",
      "Generate dictionary\n",
      "['H', 'W+', 'Z', 'b', 'b', 'c', 'c'] 0\n",
      "['H', 'W+', 'Z', 'b', 'b', 'c'] 0\n",
      "['H', 'W+', 'Z', 'b', 'b', 's', 's'] 0\n",
      "['H', 'W+', 'Z', 'b', 'b', 's'] 0\n",
      "['H', 'W+', 'Z', 'b', 'b', 't'] 0\n",
      "['H', 'W+', 'Z', 'b', 'b'] 0\n",
      "['H', 'W+', 'Z', 'b'] 0\n",
      "['H', 'W+', 'Z', 'c', 'c'] 0\n",
      "['H', 'W+', 'Z', 'c'] 0\n",
      "['H', 'W+', 'Z', 's', 's'] 0\n",
      "['H', 'W+', 'Z', 's'] 0\n",
      "['H', 'W+', 'Z', 't'] 0\n",
      "['H', 'W+', 'Z'] 0\n",
      "['H', 'W+', 'b', 'b', 'c', 'c', 't'] 0\n",
      "['H', 'W+', 'b', 'b', 'c', 'c'] 0\n",
      "['H', 'W+', 'b', 'b', 'c', 's'] 0\n",
      "['H', 'W+', 'b', 'b', 'c', 't'] 0\n",
      "['H', 'W+', 'b', 'b', 'c'] 0\n",
      "['H', 'W+', 'b', 'b', 's', 's', 't'] 0\n",
      "['H', 'W+', 'b', 'b', 's', 's'] 0\n",
      "['H', 'W+', 'b', 'b', 's', 't'] 0\n",
      "['H', 'W+', 'b', 'b', 's'] 0\n",
      "['H', 'W+', 'b', 'b', 't'] 0\n",
      "['H', 'W+', 'b', 'b'] 0\n",
      "['H', 'W+', 'b', 't'] 0\n",
      "['H', 'W+', 'b'] 0\n",
      "['H', 'W+', 'c', 'c', 's', 's'] 0\n",
      "['H', 'W+', 'c', 'c', 's'] 0\n",
      "['H', 'W+', 'c', 'c'] 0\n",
      "['H', 'W+', 'c', 's', 's'] 0\n",
      "['H', 'W+', 'c', 's'] 0\n",
      "['H', 'W+', 'c'] 0\n",
      "['H', 'W+', 's', 's'] 0\n",
      "['H', 'W+', 's'] 0\n",
      "['H', 'W+', 't'] 0\n",
      "['H', 'W+'] 0\n",
      "['H', 'Z', 'b', 'b', 'c', 'c'] 0\n",
      "['H', 'Z', 'b', 'b', 'c', 's', 's'] 0\n",
      "['H', 'Z', 'b', 'b', 'c', 's'] 0\n",
      "['H', 'Z', 'b', 'b', 'c'] 0\n",
      "['H', 'Z', 'b', 'b', 's', 's'] 0\n",
      "['H', 'Z', 'b', 'b', 's'] 0\n",
      "['H', 'Z', 'b', 'b', 't'] 0\n",
      "['H', 'Z', 'b', 'b'] 0\n",
      "['H', 'Z', 'b', 'c', 'c'] 0\n",
      "['H', 'Z', 'b', 'c', 's'] 0\n",
      "['H', 'Z', 'b', 'c'] 0\n",
      "['H', 'Z', 'b', 's', 's'] 0\n",
      "['H', 'Z', 'b', 's'] 0\n",
      "['H', 'Z', 'b', 't'] 0\n",
      "['H', 'Z', 'b'] 0\n",
      "['H', 'Z', 'c', 'c'] 0\n",
      "['H', 'Z', 'c', 's'] 0\n",
      "['H', 'Z', 'c'] 0\n",
      "['H', 'Z', 's', 's'] 0\n",
      "['H', 'Z', 's'] 0\n",
      "['H', 'Z'] 0\n",
      "['H', 'b', 'b', 'c', 'c', 's', 's'] 1\n",
      "['H', 'b', 'b', 'c', 'c', 's'] 1\n",
      "['H', 'b', 'b', 'c', 'c'] 1\n",
      "['H', 'b', 'b', 'c', 's', 's'] 1\n",
      "['H', 'b', 'b', 'c', 's'] 1\n",
      "['H', 'b', 'b', 'c'] 1\n",
      "['H', 'b', 'b', 's', 's'] 1\n",
      "['H', 'b', 'b', 's'] 1\n",
      "['H', 'b', 'b', 't'] 0\n",
      "['H', 'b', 'b'] 1\n",
      "['H', 'b', 'c', 'c'] 1\n",
      "['H', 'b', 'c', 's'] 1\n",
      "['H', 'b', 'c'] 1\n",
      "['H', 'b', 's', 's'] 1\n",
      "['H', 'b', 's'] 1\n",
      "['H', 'b', 't'] 0\n",
      "['H', 'b'] 1\n",
      "['H', 'c', 'c', 's', 's'] 1\n",
      "['H', 'c', 'c', 's'] 1\n",
      "['H', 'c', 'c'] 1\n",
      "['H', 'c', 's', 's'] 1\n",
      "['H', 'c', 's'] 1\n",
      "['H', 'c'] 1\n",
      "['H', 's', 's'] 1\n",
      "['H', 's'] 1\n",
      "['H', 't'] 0\n",
      "['H'] 1\n",
      "['W+', 'Z', 'b', 'b', 'c', 'c', 's', 's'] 0\n",
      "['W+', 'Z', 'b', 'b', 'c', 'c', 's'] 0\n",
      "['W+', 'Z', 'b', 'b', 'c', 'c'] 0\n",
      "['W+', 'Z', 'b', 'b', 'c', 's', 's'] 0\n",
      "['W+', 'Z', 'b', 'b', 'c', 's'] 0\n",
      "['W+', 'Z', 'b', 'b', 'c'] 0\n",
      "['W+', 'Z', 'b', 'b', 's', 's', 't'] 0\n",
      "['W+', 'Z', 'b', 'b', 's', 's'] 0\n",
      "['W+', 'Z', 'b', 'b', 's'] 0\n",
      "['W+', 'Z', 'b', 'b', 't'] 0\n",
      "['W+', 'Z', 'b', 'b'] 0\n",
      "['W+', 'Z', 'b', 'c', 'c', 's', 's'] 0\n",
      "['W+', 'Z', 'b', 'c', 'c', 's', 't'] 0\n",
      "['W+', 'Z', 'b', 'c', 'c', 's'] 0\n",
      "['W+', 'Z', 'b', 'c', 'c', 't'] 0\n",
      "['W+', 'Z', 'b', 'c', 'c'] 0\n",
      "['W+', 'Z', 'b', 'c', 's', 's'] 0\n",
      "['W+', 'Z', 'b', 'c', 's'] 0\n",
      "['W+', 'Z', 'b', 'c'] 0\n",
      "['W+', 'Z', 'b', 's', 's'] 0\n",
      "['W+', 'Z', 'b', 's', 't'] 0\n",
      "['W+', 'Z', 'b', 's'] 0\n",
      "['W+', 'Z', 'b'] 0\n",
      "['W+', 'Z', 'c', 'c', 's', 's'] 0\n",
      "['W+', 'Z', 'c', 'c', 's'] 0\n",
      "['W+', 'Z', 'c', 'c'] 0\n",
      "['W+', 'Z', 'c', 's', 's'] 0\n",
      "['W+', 'Z', 's', 's'] 0\n",
      "['W+', 'Z', 's'] 0\n",
      "['W+', 'Z'] 0\n",
      "['W+', 'b', 'b', 'c', 'c', 't'] 0\n",
      "['W+', 'b', 'b', 'c', 't'] 0\n",
      "['W+', 'b', 'b', 's', 's', 't'] 0\n",
      "['W+', 'b', 'b', 's', 't'] 0\n",
      "['W+', 'b', 'b', 's'] 2\n",
      "['W+', 'b', 'b', 't'] 0\n",
      "['W+', 'b', 'b'] 2\n",
      "['W+', 'b', 'c', 's', 's'] 2\n",
      "['W+', 'b', 's', 's', 't'] 0\n",
      "['W+', 'b', 't'] 0\n",
      "['W+', 'b'] 2\n",
      "['W+', 's', 's'] 2\n",
      "['W+', 's'] 2\n",
      "['W+', 't'] 0\n",
      "['W+'] 2\n",
      "['Z', 'b', 'b', 'c', 'c', 's', 's'] 4\n",
      "['Z', 'b', 'b', 'c', 'c', 's'] 4\n",
      "['Z', 'b', 'b', 'c', 'c'] 4\n",
      "['Z', 'b', 'b', 'c', 's', 's'] 4\n",
      "['Z', 'b', 'b', 'c'] 4\n",
      "['Z', 'b', 'b', 's', 's'] 4\n",
      "['Z', 'b', 'b', 's'] 4\n",
      "['Z', 'b', 'b', 't'] 0\n",
      "['Z', 'b', 'b'] 4\n",
      "['Z', 'b', 'c', 's', 's'] 4\n",
      "['Z', 'b', 'c'] 4\n",
      "['Z', 'b', 's', 's'] 4\n",
      "['Z', 'b', 't'] 0\n",
      "['Z', 'b'] 4\n",
      "['Z', 's', 's'] 4\n",
      "['Z'] 4\n",
      "['b', 'b', 'c'] 0\n",
      "['b', 'b', 's', 's'] 0\n",
      "['b', 'b', 's', 't'] 3\n",
      "['b', 'b', 's'] 0\n",
      "['b', 'b', 't'] 3\n",
      "['b', 'b'] 0\n",
      "['b', 't'] 3\n",
      "['b'] 0\n",
      "['t'] 3\n",
      "Assigning jet_type...\n"
     ]
    },
    {
     "name": "stderr",
     "output_type": "stream",
     "text": [
      "util.py:359: VisibleDeprecationWarning: using a non-integer number instead of an integer will result in an error in the future\n",
      "  l = np.zeros(length)\n"
     ]
    },
    {
     "data": {
      "text/plain": [
       "(1490621, 5)"
      ]
     },
     "execution_count": 1,
     "metadata": {},
     "output_type": "execute_result"
    },
    {
     "name": "stderr",
     "output_type": "stream",
     "text": [
      "Error in <TUnixSystem::FindDynamicLibrary>: libDelphes[.so | .dll | .dylib | .sl | .dl | .a] does not exist in /usr/local/root/lib:/home/avikar/promc/promc/lib:/home/avikar/promc/promc/lib:/usr/local/cuda/targets/x86_64-linux/lib/:.:/usr/local/root/lib:/lib/x86_64-linux-gnu/tls/x86_64:/lib/x86_64-linux-gnu/tls:/lib/x86_64-linux-gnu/x86_64:/lib/x86_64-linux-gnu:/usr/lib/x86_64-linux-gnu/tls/x86_64:/usr/lib/x86_64-linux-gnu/tls:/usr/lib/x86_64-linux-gnu/x86_64:/usr/lib/x86_64-linux-gnu:/lib/tls/x86_64:/lib/tls:/lib/x86_64:/lib:/usr/lib/tls/x86_64:/usr/lib/tls:/usr/lib/x86_64:/usr/lib\r\n",
      "input_line_34:1:10: fatal error: 'classes/DelphesClasses.h' file not found\r\n",
      "#include \"classes/DelphesClasses.h\"\r\n",
      "         ^\r\n",
      "input_line_35:1:10: fatal error: 'external/ExRootAnalysis/ExRootTreeReader.h' file not found\r\n",
      "#include \"external/ExRootAnalysis/ExRootTreeReader.h\"\r\n",
      "         ^\r\n",
      "input_line_36:1:10: fatal error: 'external/ExRootAnalysis/ExRootResult.h' file not found\r\n",
      "#include \"external/ExRootAnalysis/ExRootResult.h\"\r\n",
      "         ^\r\n"
     ]
    }
   ],
   "source": [
    "import seaborn as sns\n",
    "import matplotlib.pyplot as plt\n",
    "from sklearn import preprocessing\n",
    "import numpy as np\n",
    "sns.set()\n",
    "\n",
    "import numpy as np\n",
    "import pandas as pd\n",
    "import util\n",
    "N = 100\n",
    "df = util.h5_to_df(\"/bigdata/shared/HepSIM/combo/pythia8_higgs_2_combo.h5\")\n",
    "params = ['Px','Py', 'Pz', 'PT', 'E', 'D0', 'DZ', 'X', 'Y',  'Z', 'T', 'count']\n",
    "training, target = util.df_to_target(df, output = None, params = params, max_len = N)\n",
    "training = np.einsum('ijk->ikj', training)\n",
    "target.shape"
   ]
  },
  {
   "cell_type": "code",
   "execution_count": 3,
   "metadata": {},
   "outputs": [],
   "source": [
    "def get_sample(training, target, choice):\n",
    "    target_vals = np.argmax(target, axis = 1)\n",
    "    ind, = np.where(target_vals == choice)\n",
    "    chosen_ind = np.random.choice(ind, 10000)\n",
    "    return training[chosen_ind], target[chosen_ind]\n",
    "\n",
    "n_targets = target.shape[1]\n",
    "samples = [get_sample(training, target, i) for i in range(n_targets)]\n",
    "trainings = [i[0] for i in samples]\n",
    "targets = [i[1] for i in samples]\n",
    "big_training = np.concatenate(trainings)\n",
    "big_target = np.concatenate(targets)\n",
    "big_training, big_target = util.shuffle_together(big_training, big_target)\n"
   ]
  },
  {
   "cell_type": "code",
   "execution_count": 35,
   "metadata": {
    "collapsed": true
   },
   "outputs": [],
   "source": [
    "%matplotlib inline\n",
    "import matplotlib.pyplot as plt\n",
    "from sklearn import preprocessing\n",
    "import seaborn as sns\n",
    "sns.set()\n",
    "def get_cmap(n, name='hsv'):\n",
    "    '''Returns a function that maps each index in 0, 1, ..., n-1 to a distinct \n",
    "    RGB color; the keyword argument name must be a standard mpl colormap name.'''\n",
    "    return plt.cm.get_cmap(name, n + 1)\n",
    "\n",
    "def predicted_histogram(data, \n",
    "                        target, \n",
    "                        labels = None, \n",
    "                        nbins = 10, \n",
    "                        out = None,\n",
    "                        xlabel = None,\n",
    "                        title = None\n",
    "                       ):\n",
    "    \"\"\"@params:\n",
    "        data = n x 1 array of parameter values\n",
    "        target = n x categories array of predictions\n",
    "    \"\"\"\n",
    "    target = preprocessing.normalize(target, norm = \"l1\")\n",
    "    if labels == None:\n",
    "        labels = [\"\" for i in range(target.shape[1])]\n",
    "    #1 decide bins\n",
    "    ma = np.amax(data) * 1.0\n",
    "    mi = np.amin(data)\n",
    "    bins = np.linspace(mi, ma, nbins)\n",
    "    bin_size = bins[1] - bins[0]\n",
    "    bin_locs = np.digitize(data, bins, right = True)\n",
    "    #2 set up bin x category matrix\n",
    "    #  Each M(bin, category) = Sum over particles with param in bin of category\n",
    "    M = np.array([np.sum(target[np.where(bin_locs == i)], axis = 0) \n",
    "                  for i in range(nbins)])\n",
    "    #3 plot each category/bin\n",
    "    fig, ax = plt.subplots(1, 1, figsize=(8, 5))\n",
    "    bars = np.array([M[:, i] for i in range(M.shape[1])])\n",
    "    cmap = get_cmap(len(bars), 'viridis')\n",
    "    for i in range(len(bars)):\n",
    "        ax.bar(bins, bars[i], \n",
    "               bottom = sum(bars[:i]), \n",
    "               color = cmap(i), \n",
    "               label = labels[i],\n",
    "               width = bin_size\n",
    "              )\n",
    "    ax.set_xlabel(xlabel)\n",
    "    ax.set_yticks([])\n",
    "    ax.set_title(title)\n",
    "    ax.set_ylabel('log(Frequency)')\n",
    "    ax.set_yscale('log')\n",
    "    ax.set_yticks([])\n",
    "    ax.set_axis_bgcolor(\"w\")\n",
    "    ax.legend()"
   ]
  },
  {
   "cell_type": "code",
   "execution_count": 36,
   "metadata": {},
   "outputs": [
    {
     "data": {
      "image/png": "[encoded data removed]",
      "text/plain": [
       "<matplotlib.figure.Figure at 0x7fd84c195d90>"
      ]
     },
     "metadata": {},
     "output_type": "display_data"
    }
   ],
   "source": [
    "i = 3\n",
    "sns.set()\n",
    "predicted_histogram(np.mean(big_training[:, i, :], axis = 1), \n",
    "                    big_target, \n",
    "                    labels = ['Other', 'H', 'W', 't', 'Z'], \n",
    "                    nbins = 100, \n",
    "                    out = None,\n",
    "                    xlabel = params[i],\n",
    "                    title = params[i])"
   ]
  },
  {
   "cell_type": "code",
   "execution_count": 6,
   "metadata": {},
   "outputs": [
    {
     "data": {
      "text/plain": [
       "(50000, 12, 100)"
      ]
     },
     "execution_count": 6,
     "metadata": {},
     "output_type": "execute_result"
    }
   ],
   "source": [
    "big_training.shape"
   ]
  },
  {
   "cell_type": "code",
   "execution_count": null,
   "metadata": {
    "collapsed": true
   },
   "outputs": [],
   "source": []
  }
 ],
 "metadata": {
  "kernelspec": {
   "display_name": "Python 2",
   "language": "python",
   "name": "python2"
  },
  "language_info": {
   "codemirror_mode": {
    "name": "ipython",
    "version": 2
   },
   "file_extension": ".py",
   "mimetype": "text/x-python",
   "name": "python",
   "nbconvert_exporter": "python",
   "pygments_lexer": "ipython2",
   "version": "2.7.12"
  }
 },
 "nbformat": 4,
 "nbformat_minor": 2
}
