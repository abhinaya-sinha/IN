{
 "cells": [
  {
   "cell_type": "code",
   "execution_count": 16,
   "metadata": {
    "collapsed": true
   },
   "outputs": [],
   "source": [
    "import pandas as pd\n",
    "import numpy as np\n",
    "import random"
   ]
  },
  {
   "cell_type": "markdown",
   "metadata": {},
   "source": [
    "There are a variety of methods to generate a multiindex: [See here](https://pandas.pydata.org/pandas-docs/stable/generated/pandas.MultiIndex.from_arrays.html).  I'll just use ```from_arrays``` here."
   ]
  },
  {
   "cell_type": "code",
   "execution_count": 17,
   "metadata": {},
   "outputs": [
    {
     "data": {
      "text/plain": [
       "[[0, 1, 0, 1, 0, 1], ['A', 'B', 'C', 'D', 'E', 'F']]"
      ]
     },
     "execution_count": 17,
     "metadata": {},
     "output_type": "execute_result"
    }
   ],
   "source": [
    "index_array = [[i % 2 for i in range(6)], [chr(i + 65) for i in range(6)]]\n",
    "index_array"
   ]
  },
  {
   "cell_type": "code",
   "execution_count": 18,
   "metadata": {},
   "outputs": [
    {
     "data": {
      "text/plain": [
       "MultiIndex(levels=[[0, 1], [u'A', u'B', u'C', u'D', u'E', u'F']],\n",
       "           labels=[[0, 1, 0, 1, 0, 1], [0, 1, 2, 3, 4, 5]])"
      ]
     },
     "execution_count": 18,
     "metadata": {},
     "output_type": "execute_result"
    }
   ],
   "source": [
    "index = pd.MultiIndex.from_arrays(index_array)\n",
    "index"
   ]
  },
  {
   "cell_type": "code",
   "execution_count": 23,
   "metadata": {},
   "outputs": [
    {
     "data": {
      "text/html": [
       "<div>\n",
       "<style>\n",
       "    .dataframe thead tr:only-child th {\n",
       "        text-align: right;\n",
       "    }\n",
       "\n",
       "    .dataframe thead th {\n",
       "        text-align: left;\n",
       "    }\n",
       "\n",
       "    .dataframe tbody tr th {\n",
       "        vertical-align: top;\n",
       "    }\n",
       "</style>\n",
       "<table border=\"1\" class=\"dataframe\">\n",
       "  <thead>\n",
       "    <tr style=\"text-align: right;\">\n",
       "      <th></th>\n",
       "      <th></th>\n",
       "      <th>0</th>\n",
       "      <th>1</th>\n",
       "      <th>2</th>\n",
       "      <th>3</th>\n",
       "      <th>4</th>\n",
       "      <th>5</th>\n",
       "      <th>6</th>\n",
       "      <th>7</th>\n",
       "      <th>8</th>\n",
       "      <th>9</th>\n",
       "    </tr>\n",
       "  </thead>\n",
       "  <tbody>\n",
       "    <tr>\n",
       "      <th>0</th>\n",
       "      <th>A</th>\n",
       "      <td>0.510072</td>\n",
       "      <td>0.996979</td>\n",
       "      <td>0.592675</td>\n",
       "      <td>0.098195</td>\n",
       "      <td>0.061180</td>\n",
       "      <td>0.121990</td>\n",
       "      <td>0.741266</td>\n",
       "      <td>0.191535</td>\n",
       "      <td>0.384121</td>\n",
       "      <td>0.438471</td>\n",
       "    </tr>\n",
       "    <tr>\n",
       "      <th>1</th>\n",
       "      <th>B</th>\n",
       "      <td>0.614515</td>\n",
       "      <td>0.745191</td>\n",
       "      <td>0.142893</td>\n",
       "      <td>0.635796</td>\n",
       "      <td>0.541997</td>\n",
       "      <td>0.635303</td>\n",
       "      <td>0.042235</td>\n",
       "      <td>0.464773</td>\n",
       "      <td>0.875618</td>\n",
       "      <td>0.292593</td>\n",
       "    </tr>\n",
       "    <tr>\n",
       "      <th>0</th>\n",
       "      <th>C</th>\n",
       "      <td>0.813634</td>\n",
       "      <td>0.911418</td>\n",
       "      <td>0.524679</td>\n",
       "      <td>0.033496</td>\n",
       "      <td>0.068711</td>\n",
       "      <td>0.581927</td>\n",
       "      <td>0.584848</td>\n",
       "      <td>0.463030</td>\n",
       "      <td>0.363368</td>\n",
       "      <td>0.840679</td>\n",
       "    </tr>\n",
       "    <tr>\n",
       "      <th>1</th>\n",
       "      <th>D</th>\n",
       "      <td>0.250872</td>\n",
       "      <td>0.846946</td>\n",
       "      <td>0.910283</td>\n",
       "      <td>0.893047</td>\n",
       "      <td>0.585007</td>\n",
       "      <td>0.574896</td>\n",
       "      <td>0.096135</td>\n",
       "      <td>0.094473</td>\n",
       "      <td>0.823193</td>\n",
       "      <td>0.055480</td>\n",
       "    </tr>\n",
       "    <tr>\n",
       "      <th>0</th>\n",
       "      <th>E</th>\n",
       "      <td>0.684681</td>\n",
       "      <td>0.946811</td>\n",
       "      <td>0.890270</td>\n",
       "      <td>0.049808</td>\n",
       "      <td>0.853580</td>\n",
       "      <td>0.115106</td>\n",
       "      <td>0.231180</td>\n",
       "      <td>0.914010</td>\n",
       "      <td>0.521147</td>\n",
       "      <td>0.509199</td>\n",
       "    </tr>\n",
       "    <tr>\n",
       "      <th>1</th>\n",
       "      <th>F</th>\n",
       "      <td>0.470376</td>\n",
       "      <td>0.814628</td>\n",
       "      <td>0.414038</td>\n",
       "      <td>0.637003</td>\n",
       "      <td>0.349302</td>\n",
       "      <td>0.392539</td>\n",
       "      <td>0.797714</td>\n",
       "      <td>0.487016</td>\n",
       "      <td>0.531378</td>\n",
       "      <td>0.226444</td>\n",
       "    </tr>\n",
       "  </tbody>\n",
       "</table>\n",
       "</div>"
      ],
      "text/plain": [
       "            0         1         2         3         4         5         6  \\\n",
       "0 A  0.510072  0.996979  0.592675  0.098195  0.061180  0.121990  0.741266   \n",
       "1 B  0.614515  0.745191  0.142893  0.635796  0.541997  0.635303  0.042235   \n",
       "0 C  0.813634  0.911418  0.524679  0.033496  0.068711  0.581927  0.584848   \n",
       "1 D  0.250872  0.846946  0.910283  0.893047  0.585007  0.574896  0.096135   \n",
       "0 E  0.684681  0.946811  0.890270  0.049808  0.853580  0.115106  0.231180   \n",
       "1 F  0.470376  0.814628  0.414038  0.637003  0.349302  0.392539  0.797714   \n",
       "\n",
       "            7         8         9  \n",
       "0 A  0.191535  0.384121  0.438471  \n",
       "1 B  0.464773  0.875618  0.292593  \n",
       "0 C  0.463030  0.363368  0.840679  \n",
       "1 D  0.094473  0.823193  0.055480  \n",
       "0 E  0.914010  0.521147  0.509199  \n",
       "1 F  0.487016  0.531378  0.226444  "
      ]
     },
     "execution_count": 23,
     "metadata": {},
     "output_type": "execute_result"
    }
   ],
   "source": [
    "df = pd.DataFrame(np.random.rand(6, 10), index = index)\n",
    "df"
   ]
  },
  {
   "cell_type": "markdown",
   "metadata": {},
   "source": [
    "We don't have to define the index first, for example:"
   ]
  },
  {
   "cell_type": "code",
   "execution_count": 63,
   "metadata": {},
   "outputs": [
    {
     "data": {
      "text/html": [
       "<div>\n",
       "<style>\n",
       "    .dataframe thead tr:only-child th {\n",
       "        text-align: right;\n",
       "    }\n",
       "\n",
       "    .dataframe thead th {\n",
       "        text-align: left;\n",
       "    }\n",
       "\n",
       "    .dataframe tbody tr th {\n",
       "        vertical-align: top;\n",
       "    }\n",
       "</style>\n",
       "<table border=\"1\" class=\"dataframe\">\n",
       "  <thead>\n",
       "    <tr style=\"text-align: right;\">\n",
       "      <th></th>\n",
       "      <th></th>\n",
       "      <th>0</th>\n",
       "      <th>1</th>\n",
       "      <th>2</th>\n",
       "      <th>3</th>\n",
       "      <th>4</th>\n",
       "    </tr>\n",
       "  </thead>\n",
       "  <tbody>\n",
       "    <tr>\n",
       "      <th rowspan=\"3\" valign=\"top\">0</th>\n",
       "      <th>A</th>\n",
       "      <td>0.858550</td>\n",
       "      <td>0.381916</td>\n",
       "      <td>0.048968</td>\n",
       "      <td>0.758719</td>\n",
       "      <td>0.629517</td>\n",
       "    </tr>\n",
       "    <tr>\n",
       "      <th>B</th>\n",
       "      <td>0.072045</td>\n",
       "      <td>0.661601</td>\n",
       "      <td>0.782318</td>\n",
       "      <td>0.248334</td>\n",
       "      <td>0.190372</td>\n",
       "    </tr>\n",
       "    <tr>\n",
       "      <th>C</th>\n",
       "      <td>0.395679</td>\n",
       "      <td>0.235179</td>\n",
       "      <td>0.107646</td>\n",
       "      <td>0.626769</td>\n",
       "      <td>0.092498</td>\n",
       "    </tr>\n",
       "    <tr>\n",
       "      <th rowspan=\"3\" valign=\"top\">1</th>\n",
       "      <th>A</th>\n",
       "      <td>0.856758</td>\n",
       "      <td>0.872109</td>\n",
       "      <td>0.777422</td>\n",
       "      <td>0.477610</td>\n",
       "      <td>0.349230</td>\n",
       "    </tr>\n",
       "    <tr>\n",
       "      <th>B</th>\n",
       "      <td>0.627213</td>\n",
       "      <td>0.791734</td>\n",
       "      <td>0.387092</td>\n",
       "      <td>0.264759</td>\n",
       "      <td>0.427067</td>\n",
       "    </tr>\n",
       "    <tr>\n",
       "      <th>C</th>\n",
       "      <td>0.632481</td>\n",
       "      <td>0.365359</td>\n",
       "      <td>0.586426</td>\n",
       "      <td>0.313066</td>\n",
       "      <td>0.435593</td>\n",
       "    </tr>\n",
       "    <tr>\n",
       "      <th rowspan=\"3\" valign=\"top\">2</th>\n",
       "      <th>A</th>\n",
       "      <td>0.061055</td>\n",
       "      <td>0.505573</td>\n",
       "      <td>0.803773</td>\n",
       "      <td>0.931632</td>\n",
       "      <td>0.015152</td>\n",
       "    </tr>\n",
       "    <tr>\n",
       "      <th>B</th>\n",
       "      <td>0.484133</td>\n",
       "      <td>0.043695</td>\n",
       "      <td>0.140922</td>\n",
       "      <td>0.822680</td>\n",
       "      <td>0.523390</td>\n",
       "    </tr>\n",
       "    <tr>\n",
       "      <th>C</th>\n",
       "      <td>0.088868</td>\n",
       "      <td>0.322268</td>\n",
       "      <td>0.885655</td>\n",
       "      <td>0.747406</td>\n",
       "      <td>0.766189</td>\n",
       "    </tr>\n",
       "    <tr>\n",
       "      <th rowspan=\"3\" valign=\"top\">3</th>\n",
       "      <th>A</th>\n",
       "      <td>0.771974</td>\n",
       "      <td>0.434939</td>\n",
       "      <td>0.015368</td>\n",
       "      <td>0.139622</td>\n",
       "      <td>0.093787</td>\n",
       "    </tr>\n",
       "    <tr>\n",
       "      <th>B</th>\n",
       "      <td>0.254260</td>\n",
       "      <td>0.917318</td>\n",
       "      <td>0.725008</td>\n",
       "      <td>0.515459</td>\n",
       "      <td>0.373974</td>\n",
       "    </tr>\n",
       "    <tr>\n",
       "      <th>C</th>\n",
       "      <td>0.486882</td>\n",
       "      <td>0.328448</td>\n",
       "      <td>0.014856</td>\n",
       "      <td>0.239810</td>\n",
       "      <td>0.112568</td>\n",
       "    </tr>\n",
       "  </tbody>\n",
       "</table>\n",
       "</div>"
      ],
      "text/plain": [
       "            0         1         2         3         4\n",
       "0 A  0.858550  0.381916  0.048968  0.758719  0.629517\n",
       "  B  0.072045  0.661601  0.782318  0.248334  0.190372\n",
       "  C  0.395679  0.235179  0.107646  0.626769  0.092498\n",
       "1 A  0.856758  0.872109  0.777422  0.477610  0.349230\n",
       "  B  0.627213  0.791734  0.387092  0.264759  0.427067\n",
       "  C  0.632481  0.365359  0.586426  0.313066  0.435593\n",
       "2 A  0.061055  0.505573  0.803773  0.931632  0.015152\n",
       "  B  0.484133  0.043695  0.140922  0.822680  0.523390\n",
       "  C  0.088868  0.322268  0.885655  0.747406  0.766189\n",
       "3 A  0.771974  0.434939  0.015368  0.139622  0.093787\n",
       "  B  0.254260  0.917318  0.725008  0.515459  0.373974\n",
       "  C  0.486882  0.328448  0.014856  0.239810  0.112568"
      ]
     },
     "execution_count": 63,
     "metadata": {},
     "output_type": "execute_result"
    }
   ],
   "source": [
    "N = 12\n",
    "index = [[i / 3  for i in range(N)], \n",
    "         [chr(i % 3 + 65) for i in range(N)]]\n",
    "df = pd.DataFrame(np.random.rand(N, 5), index = index)\n",
    "df"
   ]
  },
  {
   "cell_type": "markdown",
   "metadata": {},
   "source": [
    "And we can select from the multiindex as well"
   ]
  },
  {
   "cell_type": "code",
   "execution_count": 75,
   "metadata": {},
   "outputs": [
    {
     "name": "stdout",
     "output_type": "stream",
     "text": [
      "          0         1         2         3         4\n",
      "A  0.061055  0.505573  0.803773  0.931632  0.015152\n",
      "B  0.484133  0.043695  0.140922  0.822680  0.523390\n",
      "C  0.088868  0.322268  0.885655  0.747406  0.766189 \n",
      "\n",
      "0    0.072045\n",
      "1    0.661601\n",
      "2    0.782318\n",
      "3    0.248334\n",
      "4    0.190372\n",
      "Name: (0, B), dtype: float64 \n",
      "\n",
      "            0         1         2         3         4\n",
      "0 B  0.072045  0.661601  0.782318  0.248334  0.190372\n",
      "1 B  0.627213  0.791734  0.387092  0.264759  0.427067\n",
      "2 B  0.484133  0.043695  0.140922  0.822680  0.523390\n",
      "3 B  0.254260  0.917318  0.725008  0.515459  0.373974\n"
     ]
    }
   ],
   "source": [
    "print df.loc[2], \"\\n\"\n",
    "print df.loc[0, \"B\"], \"\\n\"\n",
    "print df.loc[(slice(None), \"B\"),:]"
   ]
  },
  {
   "cell_type": "markdown",
   "metadata": {},
   "source": [
    "We can also use ```xs``` instead of ```slices```"
   ]
  },
  {
   "cell_type": "code",
   "execution_count": 77,
   "metadata": {},
   "outputs": [
    {
     "name": "stdout",
     "output_type": "stream",
     "text": [
      "          0         1         2         3         4\n",
      "0  0.072045  0.661601  0.782318  0.248334  0.190372\n",
      "1  0.627213  0.791734  0.387092  0.264759  0.427067\n",
      "2  0.484133  0.043695  0.140922  0.822680  0.523390\n",
      "3  0.254260  0.917318  0.725008  0.515459  0.373974 \n",
      "\n",
      "          0         1         2         3         4\n",
      "A  0.856758  0.872109  0.777422  0.477610  0.349230\n",
      "B  0.627213  0.791734  0.387092  0.264759  0.427067\n",
      "C  0.632481  0.365359  0.586426  0.313066  0.435593\n"
     ]
    }
   ],
   "source": [
    "print df.xs(\"B\", level=1), \"\\n\"\n",
    "print df.xs(1, level = 0)"
   ]
  },
  {
   "cell_type": "code",
   "execution_count": null,
   "metadata": {
    "collapsed": true
   },
   "outputs": [],
   "source": []
  }
 ],
 "metadata": {
  "kernelspec": {
   "display_name": "Python 2",
   "language": "python",
   "name": "python2"
  },
  "language_info": {
   "codemirror_mode": {
    "name": "ipython",
    "version": 2
   },
   "file_extension": ".py",
   "mimetype": "text/x-python",
   "name": "python",
   "nbconvert_exporter": "python",
   "pygments_lexer": "ipython2",
   "version": "2.7.13"
  }
 },
 "nbformat": 4,
 "nbformat_minor": 2
}
